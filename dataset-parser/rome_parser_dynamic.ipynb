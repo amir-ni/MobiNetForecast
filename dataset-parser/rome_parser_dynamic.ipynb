{
 "cells": [
  {
   "cell_type": "code",
   "execution_count": 1,
   "metadata": {},
   "outputs": [],
   "source": [
    "import numpy as np\n",
    "import pandas as pd\n",
    "import itertools\n",
    "from datetime import datetime\n",
    "from ast import literal_eval\n",
    "import argparse"
   ]
  },
  {
   "cell_type": "code",
   "execution_count": 4,
   "metadata": {},
   "outputs": [],
   "source": [
    "# parser = argparse.ArgumentParser(description='Rome dataset parser.')\n",
    "# parser.add_argument('--dataset_directory', type=str, default=\"/local/data1/users/anadiri/collision/\",\n",
    "#                     help='the directory where the dataset is located')\n",
    "# parser.add_argument('--window_size', type=int, default=15,\n",
    "#                     help='the size of the collision window')\n",
    "\n",
    "# args = parser.parse_args()\n",
    "\n",
    "dataset_directory = \"/local/data1/users/anadiri/collision/\" # args.dataset_directory\n",
    "# window_size = args.window_size\n",
    "# for window_size in [15,30,60,120,300]:\n",
    "    # Loop through the specified dataset files\n",
    "    # for dataset_name in [\"rome_res7.csv\"]:#, \"rome_res8.csv\", \"rome_res9.csv\"]:\n",
    "window_size = 15\n",
    "dataset_name = \"rome_res7.csv\"\n",
    "time_interval = 7  # The time interval between each record in the dataset\n",
    "\n",
    "dataset_path = dataset_directory + dataset_name  # Construct the full dataset path\n",
    "\n",
    "# Load the dataset, keeping only relevant columns\n",
    "data = pd.read_csv(dataset_path)\n",
    "data = data[['taxi_id', 'timestamp', 'count']]\n"
   ]
  },
  {
   "cell_type": "code",
   "execution_count": 5,
   "metadata": {},
   "outputs": [],
   "source": [
    "\n",
    "# Normalize timestamps to start from 0\n",
    "data['timestamp'] = data['timestamp'].apply(\n",
    "    lambda x: datetime.timestamp(datetime.strptime(x, \"%Y-%m-%d %H:%M:%S.%f%z\")))\n",
    "start_time = min(data['timestamp'])\n",
    "data['timestamp'] = data['timestamp'] - start_time"
   ]
  },
  {
   "cell_type": "code",
   "execution_count": 6,
   "metadata": {},
   "outputs": [],
   "source": [
    "\n",
    "# Function to process each row, expanding 'count' into time windows\n",
    "def process(row):\n",
    "    time = row['timestamp']\n",
    "    x = literal_eval(row['count'])\n",
    "    x = [item[0] for item in x for i in range(item[1])]\n",
    "    res = dict()\n",
    "    for item in range(len(x)):\n",
    "        window = int((time+item*time_interval)/window_size)\n",
    "        res[window] = (x[item], window)\n",
    "    return list(res.values())\n"
   ]
  },
  {
   "cell_type": "code",
   "execution_count": 7,
   "metadata": {},
   "outputs": [],
   "source": [
    "\n",
    "# Apply processing to expand 'count' into individual records for each time window\n",
    "data['count'] = data.apply(process, axis=1)\n",
    "\n",
    "# Explode the 'count' column to separate rows for each location and time window\n",
    "data = data.explode('count', ignore_index=True)\n"
   ]
  },
  {
   "cell_type": "code",
   "execution_count": 8,
   "metadata": {},
   "outputs": [],
   "source": [
    "# Extract location and time window from 'count' and drop unnecessary columns\n",
    "data['location'] = data['count'].apply(lambda x: x[0])\n",
    "data['time'] = data['count'].apply(lambda x: x[1])\n",
    "data.drop(['count', 'timestamp'], axis=1, inplace=True)\n",
    "data['taxi_id'] = data['taxi_id'].astype(int)"
   ]
  },
  {
   "cell_type": "code",
   "execution_count": 9,
   "metadata": {},
   "outputs": [],
   "source": [
    "# Group by time and location to identify potential collisions\n",
    "data = data.groupby(['time', 'location']).agg(list).reset_index()"
   ]
  },
  {
   "cell_type": "code",
   "execution_count": 10,
   "metadata": {},
   "outputs": [
    {
     "data": {
      "text/html": [
       "<div>\n",
       "<style scoped>\n",
       "    .dataframe tbody tr th:only-of-type {\n",
       "        vertical-align: middle;\n",
       "    }\n",
       "\n",
       "    .dataframe tbody tr th {\n",
       "        vertical-align: top;\n",
       "    }\n",
       "\n",
       "    .dataframe thead th {\n",
       "        text-align: right;\n",
       "    }\n",
       "</style>\n",
       "<table border=\"1\" class=\"dataframe\">\n",
       "  <thead>\n",
       "    <tr style=\"text-align: right;\">\n",
       "      <th></th>\n",
       "      <th>time</th>\n",
       "      <th>location</th>\n",
       "      <th>taxi_id</th>\n",
       "    </tr>\n",
       "  </thead>\n",
       "  <tbody>\n",
       "    <tr>\n",
       "      <th>2</th>\n",
       "      <td>0</td>\n",
       "      <td>871e80501ffffff</td>\n",
       "      <td>[187, 197, 224]</td>\n",
       "    </tr>\n",
       "    <tr>\n",
       "      <th>3</th>\n",
       "      <td>0</td>\n",
       "      <td>871e80503ffffff</td>\n",
       "      <td>[248, 368]</td>\n",
       "    </tr>\n",
       "    <tr>\n",
       "      <th>5</th>\n",
       "      <td>0</td>\n",
       "      <td>871e80505ffffff</td>\n",
       "      <td>[37, 105, 79, 291, 352]</td>\n",
       "    </tr>\n",
       "    <tr>\n",
       "      <th>9</th>\n",
       "      <td>0</td>\n",
       "      <td>871e80513ffffff</td>\n",
       "      <td>[343, 321]</td>\n",
       "    </tr>\n",
       "    <tr>\n",
       "      <th>14</th>\n",
       "      <td>0</td>\n",
       "      <td>871e80528ffffff</td>\n",
       "      <td>[122, 58]</td>\n",
       "    </tr>\n",
       "    <tr>\n",
       "      <th>...</th>\n",
       "      <td>...</td>\n",
       "      <td>...</td>\n",
       "      <td>...</td>\n",
       "    </tr>\n",
       "    <tr>\n",
       "      <th>1613803</th>\n",
       "      <td>172814</td>\n",
       "      <td>871e8052affffff</td>\n",
       "      <td>[42, 22, 113]</td>\n",
       "    </tr>\n",
       "    <tr>\n",
       "      <th>1613807</th>\n",
       "      <td>172815</td>\n",
       "      <td>871e8052affffff</td>\n",
       "      <td>[42, 22, 113]</td>\n",
       "    </tr>\n",
       "    <tr>\n",
       "      <th>1613811</th>\n",
       "      <td>172816</td>\n",
       "      <td>871e8052affffff</td>\n",
       "      <td>[42, 22, 113]</td>\n",
       "    </tr>\n",
       "    <tr>\n",
       "      <th>1613815</th>\n",
       "      <td>172817</td>\n",
       "      <td>871e8052affffff</td>\n",
       "      <td>[42, 22, 113]</td>\n",
       "    </tr>\n",
       "    <tr>\n",
       "      <th>1613819</th>\n",
       "      <td>172818</td>\n",
       "      <td>871e8052affffff</td>\n",
       "      <td>[42, 113]</td>\n",
       "    </tr>\n",
       "  </tbody>\n",
       "</table>\n",
       "<p>680811 rows × 3 columns</p>\n",
       "</div>"
      ],
      "text/plain": [
       "           time         location                  taxi_id\n",
       "2             0  871e80501ffffff          [187, 197, 224]\n",
       "3             0  871e80503ffffff               [248, 368]\n",
       "5             0  871e80505ffffff  [37, 105, 79, 291, 352]\n",
       "9             0  871e80513ffffff               [343, 321]\n",
       "14            0  871e80528ffffff                [122, 58]\n",
       "...         ...              ...                      ...\n",
       "1613803  172814  871e8052affffff            [42, 22, 113]\n",
       "1613807  172815  871e8052affffff            [42, 22, 113]\n",
       "1613811  172816  871e8052affffff            [42, 22, 113]\n",
       "1613815  172817  871e8052affffff            [42, 22, 113]\n",
       "1613819  172818  871e8052affffff                [42, 113]\n",
       "\n",
       "[680811 rows x 3 columns]"
      ]
     },
     "execution_count": 10,
     "metadata": {},
     "output_type": "execute_result"
    }
   ],
   "source": [
    "\n",
    "# Filter for entries where more than one taxi is present\n",
    "data = data[data['taxi_id'].apply(len) > 1]\n",
    "data"
   ]
  },
  {
   "cell_type": "code",
   "execution_count": 11,
   "metadata": {},
   "outputs": [],
   "source": [
    "\n",
    "\n",
    "# Generate pairs of taxi IDs for each potential collision\n",
    "data['pairs'] = data['taxi_id'].apply(\n",
    "    lambda x: [(a[1],a[0]) if a[0] > a[1] else (a[0],a[1]) for a in itertools.combinations(x, 2)])"
   ]
  },
  {
   "cell_type": "code",
   "execution_count": 19,
   "metadata": {},
   "outputs": [
    {
     "data": {
      "text/plain": [
       "(314, 15885801)"
      ]
     },
     "execution_count": 19,
     "metadata": {},
     "output_type": "execute_result"
    }
   ],
   "source": [
    "\n",
    "# data = data.drop('taxi_id', axis=1)\n",
    "# data = data.explode('pairs')\n",
    "data['pairs'] = data['pairs'].apply(lambda x: x[0] if x[0] > x[1] else x[1])\n",
    "data['pairs'].nunique(), data['pairs'].shape[0]"
   ]
  },
  {
   "cell_type": "code",
   "execution_count": null,
   "metadata": {},
   "outputs": [],
   "source": [
    "data = data.drop('pairs', axis=1)\n",
    "print(window_size, len(data))\n",
    "# Finalize the dataset and write to a new CSV file\n",
    "data.to_csv(dataset_directory + \"collision_\" + str(window_size) +\n",
    "            \"_\" + dataset_name, index=False)\n"
   ]
  }
 ],
 "metadata": {
  "kernelspec": {
   "display_name": "Python 3",
   "language": "python",
   "name": "python3"
  },
  "language_info": {
   "codemirror_mode": {
    "name": "ipython",
    "version": 3
   },
   "file_extension": ".py",
   "mimetype": "text/x-python",
   "name": "python",
   "nbconvert_exporter": "python",
   "pygments_lexer": "ipython3",
   "version": "3.10.14"
  }
 },
 "nbformat": 4,
 "nbformat_minor": 2
}
